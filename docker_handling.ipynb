{
 "cells": [
  {
   "cell_type": "markdown",
   "metadata": {},
   "source": [
    "# My tips for handling docker"
   ]
  },
  {
   "cell_type": "markdown",
   "metadata": {},
   "source": [
    "## \n",
    "[open a simple docker container](https://linuxmeerkat.wordpress.com/2014/10/17/running-a-gui-application-in-a-docker-container/)"
   ]
  },
  {
   "cell_type": "code",
   "execution_count": null,
   "metadata": {
    "vscode": {
     "languageId": "plaintext"
    }
   },
   "outputs": [],
   "source": [
    "docker run -it ubuntu:23.10 bash"
   ]
  },
  {
   "cell_type": "markdown",
   "metadata": {},
   "source": [
    "## get/update repository list"
   ]
  },
  {
   "cell_type": "code",
   "execution_count": null,
   "metadata": {
    "vscode": {
     "languageId": "plaintext"
    }
   },
   "outputs": [],
   "source": [
    "apt update"
   ]
  },
  {
   "cell_type": "markdown",
   "metadata": {},
   "source": [
    "## install curl"
   ]
  },
  {
   "cell_type": "code",
   "execution_count": null,
   "metadata": {
    "vscode": {
     "languageId": "plaintext"
    }
   },
   "outputs": [],
   "source": [
    "apt install --no-install-recommends -y curl ca-certificates"
   ]
  },
  {
   "cell_type": "markdown",
   "metadata": {},
   "source": [
    "## install rustc inside container"
   ]
  },
  {
   "cell_type": "code",
   "execution_count": null,
   "metadata": {
    "vscode": {
     "languageId": "plaintext"
    }
   },
   "outputs": [],
   "source": [
    "curl --proto '=https' --tlsv1.2 -sSf https://sh.rustup.rs | sh"
   ]
  },
  {
   "cell_type": "markdown",
   "metadata": {},
   "source": [
    "## \n",
    "[docker build image](https://www.howtoforge.com/tutorial/how-to-create-docker-images-with-dockerfile/)"
   ]
  },
  {
   "cell_type": "markdown",
   "metadata": {},
   "source": [
    "# (docker build)[https://docs.docker.com/engine/reference/commandline/build/]"
   ]
  },
  {
   "cell_type": "code",
   "execution_count": null,
   "metadata": {
    "vscode": {
     "languageId": "plaintext"
    }
   },
   "outputs": [],
   "source": [
    "docker build --tag test_rust -f DOCKERFILE"
   ]
  },
  {
   "cell_type": "markdown",
   "metadata": {},
   "source": [
    "# [Tag docker file](https://codefresh.io/docs/docs/example-catalog/ci-examples/build-an-image-specify-dockerfile-location/)"
   ]
  },
  {
   "cell_type": "code",
   "execution_count": null,
   "metadata": {
    "vscode": {
     "languageId": "plaintext"
    }
   },
   "outputs": [],
   "source": [
    "docker build . -t my-rust-test -f ./dockerfile_rust"
   ]
  },
  {
   "cell_type": "markdown",
   "metadata": {},
   "source": [
    "# show inside this image"
   ]
  },
  {
   "cell_type": "code",
   "execution_count": null,
   "metadata": {
    "vscode": {
     "languageId": "plaintext"
    }
   },
   "outputs": [],
   "source": [
    "docker run -it my-rust-test bash"
   ]
  },
  {
   "cell_type": "markdown",
   "metadata": {},
   "source": [
    "# [docker file copy](https://www.baeldung.com/ops/docker-copying-files)"
   ]
  },
  {
   "cell_type": "code",
   "execution_count": null,
   "metadata": {
    "vscode": {
     "languageId": "plaintext"
    }
   },
   "outputs": [],
   "source": [
    "# copy\n",
    "COPY ./src/tokio_finviz.rs /home/default_user/rust_work_space/tokio_finviz_shortput/src/tokio_finviz.rs "
   ]
  },
  {
   "cell_type": "markdown",
   "metadata": {},
   "source": [
    "add multi line entry to file e.g. Cargo.toml w/ space line"
   ]
  },
  {
   "cell_type": "code",
   "execution_count": null,
   "metadata": {
    "vscode": {
     "languageId": "plaintext"
    }
   },
   "outputs": [],
   "source": [
    "tee -a /home/default_user/rust_work_space/tokio_finviz_shortput/Cargo.toml > /dev/null <<EOT\n",
    "#\n",
    "[[example]]\n",
    "name = \"tokio_finviz\"\n",
    "EOT"
   ]
  },
  {
   "cell_type": "markdown",
   "metadata": {},
   "source": [
    "# docker interactive"
   ]
  },
  {
   "cell_type": "code",
   "execution_count": null,
   "metadata": {
    "vscode": {
     "languageId": "plaintext"
    }
   },
   "outputs": [],
   "source": [
    "docker run --rm -it  my-chrome-test_1:latest"
   ]
  },
  {
   "cell_type": "markdown",
   "metadata": {},
   "source": [
    "# RUN container with docker"
   ]
  },
  {
   "cell_type": "code",
   "execution_count": null,
   "metadata": {
    "vscode": {
     "languageId": "plaintext"
    }
   },
   "outputs": [],
   "source": [
    "export DISPLAY=:0;\n",
    "xhost +;\n",
    "docker run --rm -it  -e DISPLAY=:0 -v /tmp/.X11-unix:/tmp/.X11-unix my-chrome-test_2:latest"
   ]
  },
  {
   "cell_type": "markdown",
   "metadata": {},
   "source": [
    "seccomp - https://stackoverflow.com/questions/76833201/how-to-run-chrome-securely-in-docker\n"
   ]
  },
  {
   "cell_type": "markdown",
   "metadata": {},
   "source": [
    "https://hub.docker.com/r/linuxserver/chromium"
   ]
  },
  {
   "cell_type": "markdown",
   "metadata": {},
   "source": [
    "https://github.com/linuxserver"
   ]
  },
  {
   "cell_type": "code",
   "execution_count": null,
   "metadata": {
    "vscode": {
     "languageId": "plaintext"
    }
   },
   "outputs": [],
   "source": [
    "docker run   --rm -it  -e DISPLAY=:0 -v /tmp/.X11-unix:/tmp/.X11-unix --device /dev/dri/ my-chrome-test_17:latest"
   ]
  },
  {
   "cell_type": "markdown",
   "metadata": {},
   "source": [
    "# list images"
   ]
  },
  {
   "cell_type": "code",
   "execution_count": null,
   "metadata": {
    "vscode": {
     "languageId": "plaintext"
    }
   },
   "outputs": [],
   "source": [
    "docker images"
   ]
  },
  {
   "cell_type": "markdown",
   "metadata": {},
   "source": [
    "# list running container"
   ]
  },
  {
   "cell_type": "code",
   "execution_count": null,
   "metadata": {
    "vscode": {
     "languageId": "plaintext"
    }
   },
   "outputs": [],
   "source": [
    "docker container ls"
   ]
  },
  {
   "cell_type": "markdown",
   "metadata": {},
   "source": [
    "# docker open a bash inside container"
   ]
  },
  {
   "cell_type": "code",
   "execution_count": null,
   "metadata": {
    "vscode": {
     "languageId": "plaintext"
    }
   },
   "outputs": [],
   "source": [
    "# docker exec -it <CONTAINER ID> bash\n",
    "docker exec -it 563a07bd8d21 bash"
   ]
  },
  {
   "cell_type": "code",
   "execution_count": null,
   "metadata": {
    "vscode": {
     "languageId": "plaintext"
    }
   },
   "outputs": [],
   "source": [
    "docker build . -t my_ubuntu_chrome_28 -f ./src/dockerfile_chrome\n",
    "docker run --rm -it  -e DISPLAY=:0 -v /tmp/.X11-unix:/tmp/.X11-unix my_ubuntu_chrome_28:latest\n",
    "# with volumes -v /tmp:/tmp:rw\n",
    "docker run --rm -it  -e DISPLAY=:0 -v /tmp/.X11-unix:/tmp/.X11-unix -v /tmp:/tmp:rw my_ubuntu_chrome_1_3:latest\n"
   ]
  },
  {
   "cell_type": "markdown",
   "metadata": {},
   "source": []
  },
  {
   "cell_type": "code",
   "execution_count": null,
   "metadata": {
    "vscode": {
     "languageId": "plaintext"
    }
   },
   "outputs": [],
   "source": [
    "docker exec -it ${docker container ls|sed -n '2p'|awk '{print $1}'} bash"
   ]
  },
  {
   "cell_type": "code",
   "execution_count": null,
   "metadata": {
    "vscode": {
     "languageId": "plaintext"
    }
   },
   "outputs": [],
   "source": [
    "export DISPLAY=:0;\n",
    "xhost +;\n",
    "docker run --rm -it  -e DISPLAY=:0 -v /tmp/.X11-unix:/tmp/.X11-unix -v /tmp:/tmp:rw my_ubuntu_chrome_29:latest"
   ]
  },
  {
   "cell_type": "markdown",
   "metadata": {},
   "source": [
    "# install\n",
    "[from here](https://stackoverflow.com/questions/72421548/headless-chrome-in-docker-container-visit-chrome-gpu-error-vkcreateinstanc)"
   ]
  },
  {
   "cell_type": "code",
   "execution_count": null,
   "metadata": {
    "vscode": {
     "languageId": "plaintext"
    }
   },
   "outputs": [],
   "source": [
    "sudo apt-get install linux-headers-$(uname -r)"
   ]
  },
  {
   "cell_type": "markdown",
   "metadata": {},
   "source": [
    "apt get install libgl1-mesa-dri\n",
    "[SEE HERE](https://askubuntu.com/questions/1352158/libgl-error-failed-to-load-drivers-iris-and-swrast-in-ubuntu-20-04)"
   ]
  },
  {
   "cell_type": "markdown",
   "metadata": {},
   "source": [
    "[mesa-for-older-devices-after-22-04](https://discourse.ubuntu.com/t/mesa-for-older-devices-after-22-04/27162)"
   ]
  },
  {
   "cell_type": "markdown",
   "metadata": {},
   "source": [
    "# how to detect thr gpu info"
   ]
  },
  {
   "cell_type": "code",
   "execution_count": null,
   "metadata": {
    "vscode": {
     "languageId": "plaintext"
    }
   },
   "outputs": [],
   "source": [
    "lspci | grep ' VGA ' | cut -d\" \" -f 1 | xargs -i lspci -v -s {}"
   ]
  },
  {
   "cell_type": "markdown",
   "metadata": {},
   "source": [
    "# and kernel driver in use"
   ]
  },
  {
   "cell_type": "code",
   "execution_count": null,
   "metadata": {
    "vscode": {
     "languageId": "plaintext"
    }
   },
   "outputs": [],
   "source": [
    "lspci | grep ' VGA ' | cut -d\" \" -f 1 | xargs -i lspci -v -s {}|grep \"Kernel driver in use\"\n"
   ]
  },
  {
   "cell_type": "markdown",
   "metadata": {},
   "source": [
    "set -e or set --errexit = If any command fail the script will exit with non-zero value\n",
    "set -u or set --nounset = If a variable is unset it will exit with a non zero status\n",
    "set -x or set --xtrace = Useful for debugging, print + and the executed command. \n",
    "\n",
    "[FROM HERE](https://stackoverflow.com/questions/75309371/dockerfile-with-heredoc-running-in-bash)"
   ]
  },
  {
   "cell_type": "markdown",
   "metadata": {},
   "source": [
    "DOCKER_BUILDKIT=1 docker buildx build . -t my_ubuntu_chrome_rust_2 -f ./src/dockerfile_chrome_rust "
   ]
  },
  {
   "cell_type": "markdown",
   "metadata": {},
   "source": [
    "[Introduction to heredocs in Dockerfiles - Jul 30, 2021 ](https://www.docker.com/blog/introduction-to-heredocs-in-dockerfiles/)\n",
    "[BuildKit Dockerfile frontend](https://hub.docker.com/r/docker/dockerfile)"
   ]
  },
  {
   "cell_type": "code",
   "execution_count": null,
   "metadata": {
    "vscode": {
     "languageId": "plaintext"
    }
   },
   "outputs": [],
   "source": [
    "DOCKER_BUILDKIT=1 docker buildx build . -t my_ubuntu_chrome_rust_3 -f ./src/dockerfile_chrome_rust"
   ]
  }
 ],
 "metadata": {
  "kernelspec": {
   "display_name": "Bash",
   "language": "bash",
   "name": "bash"
  },
  "language_info": {
   "name": "bash"
  }
 },
 "nbformat": 4,
 "nbformat_minor": 2
}
